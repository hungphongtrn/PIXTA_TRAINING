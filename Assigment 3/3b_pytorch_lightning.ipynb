{
 "cells": [
  {
   "cell_type": "markdown",
   "metadata": {},
   "source": [
    "# IMPORTING LIBRARIES AND MODULES"
   ]
  },
  {
   "cell_type": "code",
   "execution_count": 1,
   "metadata": {},
   "outputs": [],
   "source": [
    "import timm # PyTorch Image Models\n",
    "import os \n",
    "import pandas as pd\n",
    "import torch\n",
    "import pytorch_lightning as pl\n",
    "import torchvision.transforms as T\n",
    "import torch.nn.functional as F\n",
    "import torch.optim as optim\n",
    "from torch.utils.data import Dataset, DataLoader\n",
    "import torch.nn as nn\n",
    "import numpy as np\n",
    "\n",
    "import matplotlib.pyplot as plt\n",
    "%matplotlib inline\n",
    "\n",
    "import warnings\n",
    "warnings.filterwarnings('ignore')"
   ]
  },
  {
   "cell_type": "code",
   "execution_count": 2,
   "metadata": {},
   "outputs": [
    {
     "name": "stdout",
     "output_type": "stream",
     "text": [
      "['test.json', 'valid.json', 'train.csv', 'test.csv', 'train.json', 'segmentation', 'test', 'train']\n",
      "['chair', 'car', 'horse', 'person', 'bicycle', 'cat', 'dog', 'train', 'aeroplane', 'diningtable', 'tvmonitor', 'bird', 'bottle', 'motorbike', 'pottedplant', 'boat', 'sofa', 'sheep', 'cow', 'bus']\n"
     ]
    }
   ],
   "source": [
    "# LOADING DATA DIRECTORY\n",
    "data_dir = \"/home/tungnguyendinh/.fastai/data/pascal_2007/\"\n",
    "print(os.listdir(data_dir))\n",
    "\n",
    "# RETRIEVE ALL CLASSES\n",
    "VOC_CLASSES = pd.read_csv(data_dir + \"train.csv\")['labels'].str.split(' ', expand=True).stack().unique().tolist()\n",
    "print(VOC_CLASSES)"
   ]
  },
  {
   "cell_type": "markdown",
   "metadata": {},
   "source": []
  },
  {
   "cell_type": "code",
   "execution_count": 3,
   "metadata": {},
   "outputs": [],
   "source": [
    "# HELPER FUNCTIONS \n",
    "# encode labels\n",
    "def encode_labels(labels, classes = VOC_CLASSES):\n",
    "    target = torch.zeros(len(classes))\n",
    "    for label in labels:\n",
    "        target[classes.index(label)] = 1\n",
    "    return target\n",
    "\n",
    "# decode labels\n",
    "def decode_labels(target, classes = VOC_CLASSES, threshold=0.5):\n",
    "    labels = []\n",
    "    for i, prob in enumerate(target):\n",
    "        if prob > threshold:\n",
    "            labels.append(classes[i])\n",
    "\n",
    "    return ' '.join(labels)"
   ]
  },
  {
   "cell_type": "code",
   "execution_count": 4,
   "metadata": {},
   "outputs": [],
   "source": [
    "# Dataset \n",
    "from torchvision.io import read_image\n",
    "#Create Custom dataset class for Pascal_2007\n",
    "class PascalDataset(Dataset):\n",
    "    def __init__(self, img_dir, annotations_file, transform=None):\n",
    "        self.img_labels = pd.read_csv(annotations_file)\n",
    "        self.img_dir = img_dir\n",
    "        self.transform = transform\n",
    "\n",
    "    def __len__(self):\n",
    "        return len(self.img_labels)\n",
    "\n",
    "    def __getitem__(self, idx):\n",
    "        img_path = os.path.join(self.img_dir, self.img_labels.iloc[idx, 0])\n",
    "        image = read_image(img_path)\n",
    "        labels = self.img_labels.iloc[idx, 1].split(\" \")\n",
    "        if self.transform:\n",
    "            image = self.transform(image)\n",
    "        return image, encode_labels(labels)"
   ]
  },
  {
   "cell_type": "code",
   "execution_count": 5,
   "metadata": {},
   "outputs": [
    {
     "name": "stdout",
     "output_type": "stream",
     "text": [
      "tensor([[[ 10,  13,  10,  ..., 163, 162, 161],\n",
      "         [  3,   7,  11,  ..., 163, 163, 163],\n",
      "         [ 45,  24,  15,  ..., 165, 165, 165],\n",
      "         ...,\n",
      "         [ 31,  36,  29,  ...,  58,  61,  58],\n",
      "         [ 36,  34,  38,  ...,  66,  70,  70],\n",
      "         [ 49,  60,  73,  ...,  64,  68,  69]],\n",
      "\n",
      "        [[ 10,  13,  10,  ..., 188, 187, 186],\n",
      "         [  4,   9,  11,  ..., 188, 188, 188],\n",
      "         [ 49,  28,  16,  ..., 190, 190, 190],\n",
      "         ...,\n",
      "         [ 12,  17,  10,  ...,  72,  72,  71],\n",
      "         [  9,   7,   8,  ...,  80,  83,  83],\n",
      "         [ 17,  22,  25,  ...,  79,  83,  84]],\n",
      "\n",
      "        [[ 10,  13,  10,  ..., 195, 194, 193],\n",
      "         [  6,   8,  13,  ..., 195, 195, 195],\n",
      "         [ 52,  29,  20,  ..., 197, 197, 197],\n",
      "         ...,\n",
      "         [  8,  11,   3,  ..., 101, 104, 103],\n",
      "         [  2,   0,   0,  ..., 109, 115, 115],\n",
      "         [  6,  11,  13,  ..., 108, 112, 113]]], dtype=torch.uint8)\n"
     ]
    }
   ],
   "source": [
    "temp = PascalDataset(img_dir = data_dir + \"train\", annotations_file = data_dir + \"train.csv\")\n",
    "print(temp[0][0])"
   ]
  },
  {
   "cell_type": "code",
   "execution_count": 6,
   "metadata": {},
   "outputs": [],
   "source": [
    "# CONVERT TO LIGHTNING DATA MODULE\n",
    "class PascalVoC2007(pl.LightningDataModule):\n",
    "    def __init__(self, data_dir):\n",
    "        super().__init__()\n",
    "        self.data_dir = data_dir\n",
    "\n",
    "        # Mean and Std by ImageNet\n",
    "        MEAN =[0.457342265910642, 0.4387686270106377, 0.4073427106250871]\n",
    "        STD =[0.26753769276329037, 0.2638145880487105, 0.2776826934044154]  \n",
    "\n",
    "        # train transforms\n",
    "        self.train_transform = T.Compose([\n",
    "            T.ToPILImage(),\n",
    "            T.Resize((300, 300)),\n",
    "            T.RandomChoice([\n",
    "                                T.ColorJitter(brightness=(0.9, 1.1)),\n",
    "                                T.RandomGrayscale(p = 0.25)\n",
    "                                ]),\n",
    "            T.RandomHorizontalFlip(p = 0.25),\n",
    "            T.RandomRotation(25),\n",
    "            T.ToTensor(), \n",
    "            T.Normalize(mean = MEAN, std = STD),\n",
    "            ])\n",
    "        \n",
    "        # test transforms\n",
    "        self.eval_transform = T.Compose([\n",
    "            T.ToPILImage(),\n",
    "            T.Resize((300, 300)),\n",
    "            T.ToTensor(),\n",
    "            T.Normalize(mean = MEAN, std = STD)\n",
    "            ])\n",
    "        \n",
    "        \n",
    "    def setup(self):\n",
    "        # Merge val and train to fit all data\n",
    "        self.train_data = PascalDataset(img_dir = data_dir + \"train\", annotations_file = data_dir + \"train.csv\", transform=self.train_transform)\n",
    "        # Use test data for evaluation \n",
    "        self.test_data = PascalDataset(img_dir = data_dir + \"test\", annotations_file = data_dir + \"test.csv\", transform=self.eval_transform)\n",
    "    \n",
    "    def train_dataloader(self):\n",
    "        return DataLoader(self.train_data, batch_size=32, shuffle=True, num_workers=4)\n",
    "    \n",
    "    def val_dataloader(self):\n",
    "        return DataLoader(self.test_data, batch_size=32, num_workers=4) \n",
    "\n",
    "dataset = PascalVoC2007(data_dir = data_dir)\n",
    "dataset.setup()"
   ]
  },
  {
   "cell_type": "code",
   "execution_count": 7,
   "metadata": {},
   "outputs": [],
   "source": [
    "# MODEL\n",
    "from typing import Any\n",
    "from pytorch_lightning.utilities.types import STEP_OUTPUT\n",
    "import timm\n",
    "from torchmetrics.classification import MultilabelAccuracy\n",
    "from lightning.pytorch.loggers import TensorBoardLogger\n",
    "\n",
    "model = timm.create_model('resnet18', pretrained=False, num_classes=len(VOC_CLASSES))\n",
    "\n",
    "# PyTorch Lightning Module\n",
    "class Resnet18(pl.LightningModule):\n",
    "    def __init__(self, model):\n",
    "        super().__init__()\n",
    "        self.model = model\n",
    "        self.criterion = nn.BCEWithLogitsLoss()\n",
    "        self.accuracy = MultilabelAccuracy(num_labels=len(VOC_CLASSES), average='none')\n",
    "\n",
    "    def forward(self, x):\n",
    "        return self.model(x)\n",
    "    \n",
    "    def configure_optimizers(self):\n",
    "        optimizer = torch.optim.Adam(self.model.parameters(), lr=1e-4)\n",
    "        return optimizer\n",
    "    \n",
    "    def _calculate(self, batch):\n",
    "        input, target = batch\n",
    "        pred = self.model(input)\n",
    "        loss = self.criterion(pred, target)\n",
    "        acc = self.accuracy(pred, target)\n",
    "        return loss, acc\n",
    "    \n",
    "    def training_step(self, batch, batch_idx):\n",
    "        loss, acc = self._calculate(batch)\n",
    "        return {\n",
    "            'loss': loss,\n",
    "            'acc': acc\n",
    "        }\n",
    "    \n",
    "    def validation_step(self, batch, batch_idx):\n",
    "        loss, acc = self._calculate(batch)\n",
    "        return {\n",
    "            'loss': loss,\n",
    "            'acc': acc\n",
    "        }"
   ]
  },
  {
   "cell_type": "code",
   "execution_count": 8,
   "metadata": {},
   "outputs": [],
   "source": [
    "import pytorch_lightning as pl\n",
    "from pytorch_lightning.callbacks import Callback\n",
    "from pytorch_lightning.callbacks import ModelCheckpoint\n",
    "from torchvision.utils import make_grid\n",
    "\n",
    "def visTensor(tensor, ch=0, allkernels=False, nrow=8, padding=1): \n",
    "        n,c,w,h = tensor.shape\n",
    "\n",
    "        if allkernels: tensor = tensor.view(n*c, -1, w, h)\n",
    "        elif c != 3: tensor = tensor[:,ch,:,:].unsqueeze(dim=1)\n",
    "\n",
    "        rows = np.min((tensor.shape[0] // nrow + 1, 64))    \n",
    "        grid = make_grid(tensor, nrow=nrow, normalize=True, padding=padding)\n",
    "        plt.figure( figsize=(nrow,rows) )\n",
    "        plt.imshow(grid.numpy().transpose((1, 2, 0)), cmap='inferno')\n",
    "\n",
    "class ResnetCallback(Callback):\n",
    "    def __init__(self, load_trained = False):\n",
    "        super().__init__()\n",
    "        self.train_outputs = []\n",
    "        self.val_outputs = []\n",
    "        self.load_trained = load_trained\n",
    "\n",
    "    def on_fit_start(self, trainer, pl_module):\n",
    "        if self.load_trained:\n",
    "            if os.path.exists('/home/phongtnh/PIXTA_TRAINING/model_15.pth'):\n",
    "                # load pretrained model from pytorch checkpoint\n",
    "                checkpoint = torch.load('/home/phongtnh/PIXTA_TRAINING/model_15.pth')['model_state_dict']\n",
    "                model_dict = pl_module.state_dict()\n",
    "                pretrained_dict = {k: v for k, v in checkpoint.items() if k in model_dict}\n",
    "                model_dict.update(pretrained_dict)\n",
    "                pl_module.load_state_dict(model_dict)\n",
    "            else:\n",
    "                print('No pretrained model found')\n",
    "\n",
    "    def on_train_batch_end(self, trainer, pl_module, outputs, batch, batch_idx, unused = 0):\n",
    "        self.train_outputs.append(outputs)\n",
    "        \n",
    "    def on_validation_batch_end(self, trainer, pl_module, outputs, batch, batch_idx, unused=0):\n",
    "        self.val_outputs.append(outputs)\n",
    "\n",
    "    def on_train_epoch_end(self, trainer, pl_module):\n",
    "        avg_loss = torch.stack([x['loss'] for x in self.train_outputs]).mean()\n",
    "        avg_acc  = torch.stack([x['acc'] for x in self.train_outputs]).mean()\n",
    "        \n",
    "        pl_module.logger.experiment.add_scalar(\"Loss/train\",\n",
    "                                          avg_loss,\n",
    "                                          pl_module.current_epoch)\n",
    "        \n",
    "        pl_module.logger.experiment.add_scalar(\"Accuracy/train\",\n",
    "                                          avg_acc,\n",
    "                                          pl_module.current_epoch)\n",
    "        \n",
    "    def on_validation_epoch_end(self, trainer, pl_module):\n",
    "        avg_loss = torch.stack([x['loss'] for x in self.val_outputs]).mean()\n",
    "        avg_acc  = torch.stack([x['acc'] for x in self.val_outputs]).mean()\n",
    "        self.log('val_loss', avg_loss)\n",
    "        \n",
    "        pl_module.logger.experiment.add_scalar(\"Loss/val\",\n",
    "                                            avg_loss,\n",
    "                                            pl_module.current_epoch)\n",
    "        pl_module.logger.experiment.add_scalar(\"Accuracy/val\",\n",
    "                                            avg_acc,\n",
    "                                            pl_module.current_epoch)\n",
    "        # Output epoch number, loss, acc\n",
    "        print('Epoch: {}, Loss: {}, Accuracy: {}'.format(pl_module.current_epoch, avg_loss, avg_acc))\n",
    "        \n",
    "    def on_fit_end(self, trainer, pl_module):\n",
    "        filter = pl_module.model.state_dict()['conv1.weight'].data.clone()\n",
    "        visTensor(filter, ch=0, allkernels=False)\n",
    "\n",
    "        plt.axis('off')\n",
    "        plt.ioff()\n",
    "        plt.show()\n",
    "        \n",
    "\n",
    "              "
   ]
  },
  {
   "cell_type": "code",
   "execution_count": 9,
   "metadata": {},
   "outputs": [
    {
     "name": "stderr",
     "output_type": "stream",
     "text": [
      "GPU available: True (cuda), used: True\n",
      "TPU available: False, using: 0 TPU cores\n",
      "IPU available: False, using: 0 IPUs\n",
      "HPU available: False, using: 0 HPUs\n"
     ]
    }
   ],
   "source": [
    "Resnet = Resnet18(model)\n",
    "logger = TensorBoardLogger('runs', name=\"Resnet18_Lightning\")\n",
    "trainer = pl.Trainer(accelerator='gpu',\n",
    "                     max_epochs=1,\n",
    "                     devices=[1],\n",
    "                     logger=logger,\n",
    "                     callbacks=[ResnetCallback(load_trained=True)])"
   ]
  },
  {
   "cell_type": "code",
   "execution_count": 10,
   "metadata": {},
   "outputs": [
    {
     "name": "stderr",
     "output_type": "stream",
     "text": [
      "LOCAL_RANK: 0 - CUDA_VISIBLE_DEVICES: [0,1,2,3]\n",
      "\n",
      "  | Name      | Type               | Params\n",
      "-------------------------------------------------\n",
      "0 | model     | ResNet             | 11.2 M\n",
      "1 | criterion | BCEWithLogitsLoss  | 0     \n",
      "2 | accuracy  | MultilabelAccuracy | 0     \n",
      "-------------------------------------------------\n",
      "11.2 M    Trainable params\n",
      "0         Non-trainable params\n",
      "11.2 M    Total params\n",
      "44.747    Total estimated model params size (MB)\n"
     ]
    },
    {
     "name": "stdout",
     "output_type": "stream",
     "text": [
      "No pretrained model found\n"
     ]
    },
    {
     "data": {
      "application/vnd.jupyter.widget-view+json": {
       "model_id": "5c0d49c732524f25a55fb4a7871deb2b",
       "version_major": 2,
       "version_minor": 0
      },
      "text/plain": [
       "Sanity Checking: 0it [00:00, ?it/s]"
      ]
     },
     "metadata": {},
     "output_type": "display_data"
    },
    {
     "name": "stdout",
     "output_type": "stream",
     "text": [
      "Epoch: 0, Loss: 0.6949320435523987, Accuracy: 0.47734376788139343\n"
     ]
    },
    {
     "data": {
      "application/vnd.jupyter.widget-view+json": {
       "model_id": "3ae6135191e4431e90486f1baab59e03",
       "version_major": 2,
       "version_minor": 0
      },
      "text/plain": [
       "Training: 0it [00:00, ?it/s]"
      ]
     },
     "metadata": {},
     "output_type": "display_data"
    },
    {
     "data": {
      "application/vnd.jupyter.widget-view+json": {
       "model_id": "5e141792fa0d445484d35cc97cf31aaf",
       "version_major": 2,
       "version_minor": 0
      },
      "text/plain": [
       "Validation: 0it [00:00, ?it/s]"
      ]
     },
     "metadata": {},
     "output_type": "display_data"
    },
    {
     "name": "stdout",
     "output_type": "stream",
     "text": [
      "Epoch: 0, Loss: 0.25357839465141296, Accuracy: 0.9176817536354065\n"
     ]
    },
    {
     "name": "stderr",
     "output_type": "stream",
     "text": [
      "`Trainer.fit` stopped: `max_epochs=1` reached.\n"
     ]
    },
    {
     "data": {
      "image/png": "[encoded data removed]",
      "text/plain": [
       "<Figure size 800x900 with 1 Axes>"
      ]
     },
     "metadata": {},
     "output_type": "display_data"
    }
   ],
   "source": [
    "trainer.fit(Resnet, dataset.train_dataloader(), dataset.val_dataloader())"
   ]
  },
  {
   "cell_type": "code",
   "execution_count": null,
   "metadata": {},
   "outputs": [],
   "source": []
  }
 ],
 "metadata": {
  "kernelspec": {
   "display_name": "torch_training",
   "language": "python",
   "name": "python3"
  },
  "language_info": {
   "codemirror_mode": {
    "name": "ipython",
    "version": 3
   },
   "file_extension": ".py",
   "mimetype": "text/x-python",
   "name": "python",
   "nbconvert_exporter": "python",
   "pygments_lexer": "ipython3",
   "version": "3.11.4"
  },
  "orig_nbformat": 4
 },
 "nbformat": 4,
 "nbformat_minor": 2
}
